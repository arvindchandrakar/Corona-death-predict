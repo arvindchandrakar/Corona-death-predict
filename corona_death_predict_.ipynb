{
 "cells": [
  {
   "cell_type": "code",
   "execution_count": 1,
   "id": "02dfaf71",
   "metadata": {},
   "outputs": [],
   "source": [
    "import pandas as pd\n",
    "import numpy as np\n",
    "import seaborn as sns\n",
    "import matplotlib.pyplot as plt\n",
    "%matplotlib inline"
   ]
  },
  {
   "cell_type": "code",
   "execution_count": 2,
   "id": "d4575a00",
   "metadata": {},
   "outputs": [],
   "source": [
    "df = pd.read_csv('D:/Covid19-Death-Predictions/train.csv')"
   ]
  },
  {
   "cell_type": "code",
   "execution_count": 3,
   "id": "708ac899",
   "metadata": {},
   "outputs": [
    {
     "data": {
      "text/html": [
       "<div>\n",
       "<style scoped>\n",
       "    .dataframe tbody tr th:only-of-type {\n",
       "        vertical-align: middle;\n",
       "    }\n",
       "\n",
       "    .dataframe tbody tr th {\n",
       "        vertical-align: top;\n",
       "    }\n",
       "\n",
       "    .dataframe thead th {\n",
       "        text-align: right;\n",
       "    }\n",
       "</style>\n",
       "<table border=\"1\" class=\"dataframe\">\n",
       "  <thead>\n",
       "    <tr style=\"text-align: right;\">\n",
       "      <th></th>\n",
       "      <th>Id</th>\n",
       "      <th>Location</th>\n",
       "      <th>Weekly Cases</th>\n",
       "      <th>Year</th>\n",
       "      <th>Weekly Cases per Million</th>\n",
       "      <th>Weekly Deaths</th>\n",
       "      <th>Weekly Deaths per Million</th>\n",
       "      <th>Total Vaccinations</th>\n",
       "      <th>People Vaccinated</th>\n",
       "      <th>People Fully Vaccinated</th>\n",
       "      <th>Total Boosters</th>\n",
       "      <th>Daily Vaccinations</th>\n",
       "      <th>Total Vaccinations per Hundred</th>\n",
       "      <th>People Vaccinated per Hundred</th>\n",
       "      <th>People Fully Vaccinated per Hundred</th>\n",
       "      <th>Total Boosters per Hundred</th>\n",
       "      <th>Daily Vaccinations per Hundred</th>\n",
       "      <th>Daily People Vaccinated</th>\n",
       "      <th>Daily People Vaccinated per Hundred</th>\n",
       "      <th>Next Week's Deaths</th>\n",
       "    </tr>\n",
       "  </thead>\n",
       "  <tbody>\n",
       "    <tr>\n",
       "      <th>0</th>\n",
       "      <td>911530868</td>\n",
       "      <td>World</td>\n",
       "      <td>2372.0</td>\n",
       "      <td>2020</td>\n",
       "      <td>0.300</td>\n",
       "      <td>65.0</td>\n",
       "      <td>0.008</td>\n",
       "      <td>NaN</td>\n",
       "      <td>NaN</td>\n",
       "      <td>NaN</td>\n",
       "      <td>NaN</td>\n",
       "      <td>NaN</td>\n",
       "      <td>NaN</td>\n",
       "      <td>NaN</td>\n",
       "      <td>NaN</td>\n",
       "      <td>NaN</td>\n",
       "      <td>NaN</td>\n",
       "      <td>NaN</td>\n",
       "      <td>NaN</td>\n",
       "      <td>344.0</td>\n",
       "    </tr>\n",
       "    <tr>\n",
       "      <th>1</th>\n",
       "      <td>807936902</td>\n",
       "      <td>World</td>\n",
       "      <td>5023.0</td>\n",
       "      <td>2020</td>\n",
       "      <td>0.635</td>\n",
       "      <td>114.0</td>\n",
       "      <td>0.014</td>\n",
       "      <td>NaN</td>\n",
       "      <td>NaN</td>\n",
       "      <td>NaN</td>\n",
       "      <td>NaN</td>\n",
       "      <td>NaN</td>\n",
       "      <td>NaN</td>\n",
       "      <td>NaN</td>\n",
       "      <td>NaN</td>\n",
       "      <td>NaN</td>\n",
       "      <td>NaN</td>\n",
       "      <td>NaN</td>\n",
       "      <td>NaN</td>\n",
       "      <td>361.0</td>\n",
       "    </tr>\n",
       "    <tr>\n",
       "      <th>2</th>\n",
       "      <td>773590408</td>\n",
       "      <td>World</td>\n",
       "      <td>5612.0</td>\n",
       "      <td>2020</td>\n",
       "      <td>0.710</td>\n",
       "      <td>116.0</td>\n",
       "      <td>0.015</td>\n",
       "      <td>NaN</td>\n",
       "      <td>NaN</td>\n",
       "      <td>NaN</td>\n",
       "      <td>NaN</td>\n",
       "      <td>NaN</td>\n",
       "      <td>NaN</td>\n",
       "      <td>NaN</td>\n",
       "      <td>NaN</td>\n",
       "      <td>NaN</td>\n",
       "      <td>NaN</td>\n",
       "      <td>NaN</td>\n",
       "      <td>NaN</td>\n",
       "      <td>431.0</td>\n",
       "    </tr>\n",
       "    <tr>\n",
       "      <th>3</th>\n",
       "      <td>130466459</td>\n",
       "      <td>World</td>\n",
       "      <td>7580.0</td>\n",
       "      <td>2020</td>\n",
       "      <td>0.958</td>\n",
       "      <td>153.0</td>\n",
       "      <td>0.019</td>\n",
       "      <td>NaN</td>\n",
       "      <td>NaN</td>\n",
       "      <td>NaN</td>\n",
       "      <td>NaN</td>\n",
       "      <td>NaN</td>\n",
       "      <td>NaN</td>\n",
       "      <td>NaN</td>\n",
       "      <td>NaN</td>\n",
       "      <td>NaN</td>\n",
       "      <td>NaN</td>\n",
       "      <td>NaN</td>\n",
       "      <td>NaN</td>\n",
       "      <td>463.0</td>\n",
       "    </tr>\n",
       "    <tr>\n",
       "      <th>4</th>\n",
       "      <td>544040446</td>\n",
       "      <td>World</td>\n",
       "      <td>8983.0</td>\n",
       "      <td>2020</td>\n",
       "      <td>1.136</td>\n",
       "      <td>187.0</td>\n",
       "      <td>0.024</td>\n",
       "      <td>NaN</td>\n",
       "      <td>NaN</td>\n",
       "      <td>NaN</td>\n",
       "      <td>NaN</td>\n",
       "      <td>NaN</td>\n",
       "      <td>NaN</td>\n",
       "      <td>NaN</td>\n",
       "      <td>NaN</td>\n",
       "      <td>NaN</td>\n",
       "      <td>NaN</td>\n",
       "      <td>NaN</td>\n",
       "      <td>NaN</td>\n",
       "      <td>506.0</td>\n",
       "    </tr>\n",
       "    <tr>\n",
       "      <th>...</th>\n",
       "      <td>...</td>\n",
       "      <td>...</td>\n",
       "      <td>...</td>\n",
       "      <td>...</td>\n",
       "      <td>...</td>\n",
       "      <td>...</td>\n",
       "      <td>...</td>\n",
       "      <td>...</td>\n",
       "      <td>...</td>\n",
       "      <td>...</td>\n",
       "      <td>...</td>\n",
       "      <td>...</td>\n",
       "      <td>...</td>\n",
       "      <td>...</td>\n",
       "      <td>...</td>\n",
       "      <td>...</td>\n",
       "      <td>...</td>\n",
       "      <td>...</td>\n",
       "      <td>...</td>\n",
       "      <td>...</td>\n",
       "    </tr>\n",
       "    <tr>\n",
       "      <th>129151</th>\n",
       "      <td>541829605</td>\n",
       "      <td>Zimbabwe</td>\n",
       "      <td>464.0</td>\n",
       "      <td>2022</td>\n",
       "      <td>29.012</td>\n",
       "      <td>13.0</td>\n",
       "      <td>0.813</td>\n",
       "      <td>11949993.0</td>\n",
       "      <td>6297324.0</td>\n",
       "      <td>4601845.0</td>\n",
       "      <td>1050824.0</td>\n",
       "      <td>5665.0</td>\n",
       "      <td>74.72</td>\n",
       "      <td>39.37</td>\n",
       "      <td>28.77</td>\n",
       "      <td>6.57</td>\n",
       "      <td>354.0</td>\n",
       "      <td>1427.0</td>\n",
       "      <td>0.009</td>\n",
       "      <td>9.0</td>\n",
       "    </tr>\n",
       "    <tr>\n",
       "      <th>129152</th>\n",
       "      <td>969939474</td>\n",
       "      <td>Zimbabwe</td>\n",
       "      <td>471.0</td>\n",
       "      <td>2022</td>\n",
       "      <td>29.449</td>\n",
       "      <td>12.0</td>\n",
       "      <td>0.750</td>\n",
       "      <td>11958771.0</td>\n",
       "      <td>6299348.0</td>\n",
       "      <td>4605821.0</td>\n",
       "      <td>1053602.0</td>\n",
       "      <td>5295.0</td>\n",
       "      <td>74.77</td>\n",
       "      <td>39.39</td>\n",
       "      <td>28.80</td>\n",
       "      <td>6.59</td>\n",
       "      <td>331.0</td>\n",
       "      <td>1362.0</td>\n",
       "      <td>0.009</td>\n",
       "      <td>7.0</td>\n",
       "    </tr>\n",
       "    <tr>\n",
       "      <th>129153</th>\n",
       "      <td>667902340</td>\n",
       "      <td>Zimbabwe</td>\n",
       "      <td>450.0</td>\n",
       "      <td>2022</td>\n",
       "      <td>28.136</td>\n",
       "      <td>13.0</td>\n",
       "      <td>0.813</td>\n",
       "      <td>NaN</td>\n",
       "      <td>NaN</td>\n",
       "      <td>NaN</td>\n",
       "      <td>NaN</td>\n",
       "      <td>5316.0</td>\n",
       "      <td>NaN</td>\n",
       "      <td>NaN</td>\n",
       "      <td>NaN</td>\n",
       "      <td>NaN</td>\n",
       "      <td>332.0</td>\n",
       "      <td>1483.0</td>\n",
       "      <td>0.009</td>\n",
       "      <td>5.0</td>\n",
       "    </tr>\n",
       "    <tr>\n",
       "      <th>129154</th>\n",
       "      <td>961193720</td>\n",
       "      <td>Zimbabwe</td>\n",
       "      <td>277.0</td>\n",
       "      <td>2022</td>\n",
       "      <td>17.320</td>\n",
       "      <td>6.0</td>\n",
       "      <td>0.375</td>\n",
       "      <td>11974313.0</td>\n",
       "      <td>6305470.0</td>\n",
       "      <td>4611113.0</td>\n",
       "      <td>1057730.0</td>\n",
       "      <td>5358.0</td>\n",
       "      <td>74.87</td>\n",
       "      <td>39.43</td>\n",
       "      <td>28.83</td>\n",
       "      <td>6.61</td>\n",
       "      <td>335.0</td>\n",
       "      <td>1633.0</td>\n",
       "      <td>0.010</td>\n",
       "      <td>7.0</td>\n",
       "    </tr>\n",
       "    <tr>\n",
       "      <th>129155</th>\n",
       "      <td>832612563</td>\n",
       "      <td>Zimbabwe</td>\n",
       "      <td>277.0</td>\n",
       "      <td>2022</td>\n",
       "      <td>17.320</td>\n",
       "      <td>6.0</td>\n",
       "      <td>0.375</td>\n",
       "      <td>11984914.0</td>\n",
       "      <td>6310089.0</td>\n",
       "      <td>4614738.0</td>\n",
       "      <td>1060087.0</td>\n",
       "      <td>6190.0</td>\n",
       "      <td>74.94</td>\n",
       "      <td>39.45</td>\n",
       "      <td>28.85</td>\n",
       "      <td>6.63</td>\n",
       "      <td>387.0</td>\n",
       "      <td>2102.0</td>\n",
       "      <td>0.013</td>\n",
       "      <td>8.0</td>\n",
       "    </tr>\n",
       "  </tbody>\n",
       "</table>\n",
       "<p>129156 rows × 20 columns</p>\n",
       "</div>"
      ],
      "text/plain": [
       "               Id  Location  Weekly Cases  Year  Weekly Cases per Million  \\\n",
       "0       911530868     World        2372.0  2020                     0.300   \n",
       "1       807936902     World        5023.0  2020                     0.635   \n",
       "2       773590408     World        5612.0  2020                     0.710   \n",
       "3       130466459     World        7580.0  2020                     0.958   \n",
       "4       544040446     World        8983.0  2020                     1.136   \n",
       "...           ...       ...           ...   ...                       ...   \n",
       "129151  541829605  Zimbabwe         464.0  2022                    29.012   \n",
       "129152  969939474  Zimbabwe         471.0  2022                    29.449   \n",
       "129153  667902340  Zimbabwe         450.0  2022                    28.136   \n",
       "129154  961193720  Zimbabwe         277.0  2022                    17.320   \n",
       "129155  832612563  Zimbabwe         277.0  2022                    17.320   \n",
       "\n",
       "        Weekly Deaths  Weekly Deaths per Million  Total Vaccinations  \\\n",
       "0                65.0                      0.008                 NaN   \n",
       "1               114.0                      0.014                 NaN   \n",
       "2               116.0                      0.015                 NaN   \n",
       "3               153.0                      0.019                 NaN   \n",
       "4               187.0                      0.024                 NaN   \n",
       "...               ...                        ...                 ...   \n",
       "129151           13.0                      0.813          11949993.0   \n",
       "129152           12.0                      0.750          11958771.0   \n",
       "129153           13.0                      0.813                 NaN   \n",
       "129154            6.0                      0.375          11974313.0   \n",
       "129155            6.0                      0.375          11984914.0   \n",
       "\n",
       "        People Vaccinated  People Fully Vaccinated  Total Boosters  \\\n",
       "0                     NaN                      NaN             NaN   \n",
       "1                     NaN                      NaN             NaN   \n",
       "2                     NaN                      NaN             NaN   \n",
       "3                     NaN                      NaN             NaN   \n",
       "4                     NaN                      NaN             NaN   \n",
       "...                   ...                      ...             ...   \n",
       "129151          6297324.0                4601845.0       1050824.0   \n",
       "129152          6299348.0                4605821.0       1053602.0   \n",
       "129153                NaN                      NaN             NaN   \n",
       "129154          6305470.0                4611113.0       1057730.0   \n",
       "129155          6310089.0                4614738.0       1060087.0   \n",
       "\n",
       "        Daily Vaccinations  Total Vaccinations per Hundred  \\\n",
       "0                      NaN                             NaN   \n",
       "1                      NaN                             NaN   \n",
       "2                      NaN                             NaN   \n",
       "3                      NaN                             NaN   \n",
       "4                      NaN                             NaN   \n",
       "...                    ...                             ...   \n",
       "129151              5665.0                           74.72   \n",
       "129152              5295.0                           74.77   \n",
       "129153              5316.0                             NaN   \n",
       "129154              5358.0                           74.87   \n",
       "129155              6190.0                           74.94   \n",
       "\n",
       "        People Vaccinated per Hundred  People Fully Vaccinated per Hundred  \\\n",
       "0                                 NaN                                  NaN   \n",
       "1                                 NaN                                  NaN   \n",
       "2                                 NaN                                  NaN   \n",
       "3                                 NaN                                  NaN   \n",
       "4                                 NaN                                  NaN   \n",
       "...                               ...                                  ...   \n",
       "129151                          39.37                                28.77   \n",
       "129152                          39.39                                28.80   \n",
       "129153                            NaN                                  NaN   \n",
       "129154                          39.43                                28.83   \n",
       "129155                          39.45                                28.85   \n",
       "\n",
       "        Total Boosters per Hundred  Daily Vaccinations per Hundred  \\\n",
       "0                              NaN                             NaN   \n",
       "1                              NaN                             NaN   \n",
       "2                              NaN                             NaN   \n",
       "3                              NaN                             NaN   \n",
       "4                              NaN                             NaN   \n",
       "...                            ...                             ...   \n",
       "129151                        6.57                           354.0   \n",
       "129152                        6.59                           331.0   \n",
       "129153                         NaN                           332.0   \n",
       "129154                        6.61                           335.0   \n",
       "129155                        6.63                           387.0   \n",
       "\n",
       "        Daily People Vaccinated  Daily People Vaccinated per Hundred  \\\n",
       "0                           NaN                                  NaN   \n",
       "1                           NaN                                  NaN   \n",
       "2                           NaN                                  NaN   \n",
       "3                           NaN                                  NaN   \n",
       "4                           NaN                                  NaN   \n",
       "...                         ...                                  ...   \n",
       "129151                   1427.0                                0.009   \n",
       "129152                   1362.0                                0.009   \n",
       "129153                   1483.0                                0.009   \n",
       "129154                   1633.0                                0.010   \n",
       "129155                   2102.0                                0.013   \n",
       "\n",
       "        Next Week's Deaths  \n",
       "0                    344.0  \n",
       "1                    361.0  \n",
       "2                    431.0  \n",
       "3                    463.0  \n",
       "4                    506.0  \n",
       "...                    ...  \n",
       "129151                 9.0  \n",
       "129152                 7.0  \n",
       "129153                 5.0  \n",
       "129154                 7.0  \n",
       "129155                 8.0  \n",
       "\n",
       "[129156 rows x 20 columns]"
      ]
     },
     "execution_count": 3,
     "metadata": {},
     "output_type": "execute_result"
    }
   ],
   "source": [
    "df"
   ]
  },
  {
   "cell_type": "code",
   "execution_count": 4,
   "id": "b6dc9f87",
   "metadata": {},
   "outputs": [
    {
     "name": "stdout",
     "output_type": "stream",
     "text": [
      "<class 'pandas.core.frame.DataFrame'>\n",
      "RangeIndex: 129156 entries, 0 to 129155\n",
      "Data columns (total 20 columns):\n",
      " #   Column                               Non-Null Count   Dtype  \n",
      "---  ------                               --------------   -----  \n",
      " 0   Id                                   129156 non-null  int64  \n",
      " 1   Location                             129156 non-null  object \n",
      " 2   Weekly Cases                         128943 non-null  float64\n",
      " 3   Year                                 129156 non-null  int64  \n",
      " 4   Weekly Cases per Million             128288 non-null  float64\n",
      " 5   Weekly Deaths                        127898 non-null  float64\n",
      " 6   Weekly Deaths per Million            127247 non-null  float64\n",
      " 7   Total Vaccinations                   40270 non-null   float64\n",
      " 8   People Vaccinated                    38429 non-null   float64\n",
      " 9   People Fully Vaccinated              36574 non-null   float64\n",
      " 10  Total Boosters                       19847 non-null   float64\n",
      " 11  Daily Vaccinations                   77840 non-null   float64\n",
      " 12  Total Vaccinations per Hundred       40270 non-null   float64\n",
      " 13  People Vaccinated per Hundred        38429 non-null   float64\n",
      " 14  People Fully Vaccinated per Hundred  36574 non-null   float64\n",
      " 15  Total Boosters per Hundred           19847 non-null   float64\n",
      " 16  Daily Vaccinations per Hundred       77840 non-null   float64\n",
      " 17  Daily People Vaccinated              77391 non-null   float64\n",
      " 18  Daily People Vaccinated per Hundred  77391 non-null   float64\n",
      " 19  Next Week's Deaths                   129156 non-null  float64\n",
      "dtypes: float64(17), int64(2), object(1)\n",
      "memory usage: 19.7+ MB\n"
     ]
    }
   ],
   "source": [
    "df.info()"
   ]
  },
  {
   "cell_type": "code",
   "execution_count": 5,
   "id": "ce32907a",
   "metadata": {},
   "outputs": [
    {
     "data": {
      "text/plain": [
       "<AxesSubplot:>"
      ]
     },
     "execution_count": 5,
     "metadata": {},
     "output_type": "execute_result"
    },
    {
     "data": {
      "image/png": "[encoded data removed]",
      "text/plain": [
       "<Figure size 432x288 with 1 Axes>"
      ]
     },
     "metadata": {
      "needs_background": "light"
     },
     "output_type": "display_data"
    }
   ],
   "source": [
    "sns.heatmap(df.isnull(),yticklabels=False,cbar=False,cmap='viridis')"
   ]
  },
  {
   "cell_type": "code",
   "execution_count": 6,
   "id": "126613dc",
   "metadata": {},
   "outputs": [
    {
     "data": {
      "text/plain": [
       "Id                                          0\n",
       "Location                                    0\n",
       "Weekly Cases                              213\n",
       "Year                                        0\n",
       "Weekly Cases per Million                  868\n",
       "Weekly Deaths                            1258\n",
       "Weekly Deaths per Million                1909\n",
       "Total Vaccinations                      88886\n",
       "People Vaccinated                       90727\n",
       "People Fully Vaccinated                 92582\n",
       "Total Boosters                         109309\n",
       "Daily Vaccinations                      51316\n",
       "Total Vaccinations per Hundred          88886\n",
       "People Vaccinated per Hundred           90727\n",
       "People Fully Vaccinated per Hundred     92582\n",
       "Total Boosters per Hundred             109309\n",
       "Daily Vaccinations per Hundred          51316\n",
       "Daily People Vaccinated                 51765\n",
       "Daily People Vaccinated per Hundred     51765\n",
       "Next Week's Deaths                          0\n",
       "dtype: int64"
      ]
     },
     "execution_count": 6,
     "metadata": {},
     "output_type": "execute_result"
    }
   ],
   "source": [
    "df.isnull().sum()"
   ]
  },
  {
   "cell_type": "code",
   "execution_count": 7,
   "id": "a0c14fac",
   "metadata": {},
   "outputs": [
    {
     "data": {
      "text/plain": [
       "Id                                    -0.002262\n",
       "Weekly Cases                           0.660833\n",
       "Year                                  -0.020374\n",
       "Weekly Cases per Million               0.009862\n",
       "Weekly Deaths                          0.992956\n",
       "Weekly Deaths per Million              0.085626\n",
       "Total Vaccinations                     0.414776\n",
       "People Vaccinated                      0.450899\n",
       "People Fully Vaccinated                0.399660\n",
       "Total Boosters                         0.204060\n",
       "Daily Vaccinations                     0.660108\n",
       "Total Vaccinations per Hundred        -0.097737\n",
       "People Vaccinated per Hundred         -0.110803\n",
       "People Fully Vaccinated per Hundred   -0.128481\n",
       "Total Boosters per Hundred            -0.199904\n",
       "Daily Vaccinations per Hundred         0.023978\n",
       "Daily People Vaccinated                0.642869\n",
       "Daily People Vaccinated per Hundred    0.017402\n",
       "Next Week's Deaths                     1.000000\n",
       "Name: Next Week's Deaths, dtype: float64"
      ]
     },
     "execution_count": 7,
     "metadata": {},
     "output_type": "execute_result"
    }
   ],
   "source": [
    "df.corr()['''Next Week's Deaths''']"
   ]
  },
  {
   "cell_type": "code",
   "execution_count": 8,
   "id": "fed70164",
   "metadata": {},
   "outputs": [
    {
     "data": {
      "text/html": [
       "<div>\n",
       "<style scoped>\n",
       "    .dataframe tbody tr th:only-of-type {\n",
       "        vertical-align: middle;\n",
       "    }\n",
       "\n",
       "    .dataframe tbody tr th {\n",
       "        vertical-align: top;\n",
       "    }\n",
       "\n",
       "    .dataframe thead th {\n",
       "        text-align: right;\n",
       "    }\n",
       "</style>\n",
       "<table border=\"1\" class=\"dataframe\">\n",
       "  <thead>\n",
       "    <tr style=\"text-align: right;\">\n",
       "      <th></th>\n",
       "      <th>Id</th>\n",
       "      <th>Weekly Cases</th>\n",
       "      <th>Weekly Cases per Million</th>\n",
       "      <th>Weekly Deaths</th>\n",
       "      <th>Weekly Deaths per Million</th>\n",
       "      <th>Total Vaccinations</th>\n",
       "      <th>People Vaccinated</th>\n",
       "      <th>People Fully Vaccinated</th>\n",
       "      <th>Total Boosters</th>\n",
       "      <th>Daily Vaccinations</th>\n",
       "      <th>Total Vaccinations per Hundred</th>\n",
       "      <th>People Vaccinated per Hundred</th>\n",
       "      <th>People Fully Vaccinated per Hundred</th>\n",
       "      <th>Total Boosters per Hundred</th>\n",
       "      <th>Daily Vaccinations per Hundred</th>\n",
       "      <th>Daily People Vaccinated</th>\n",
       "      <th>Daily People Vaccinated per Hundred</th>\n",
       "      <th>Next Week's Deaths</th>\n",
       "    </tr>\n",
       "    <tr>\n",
       "      <th>Year</th>\n",
       "      <th></th>\n",
       "      <th></th>\n",
       "      <th></th>\n",
       "      <th></th>\n",
       "      <th></th>\n",
       "      <th></th>\n",
       "      <th></th>\n",
       "      <th></th>\n",
       "      <th></th>\n",
       "      <th></th>\n",
       "      <th></th>\n",
       "      <th></th>\n",
       "      <th></th>\n",
       "      <th></th>\n",
       "      <th></th>\n",
       "      <th></th>\n",
       "      <th></th>\n",
       "      <th></th>\n",
       "    </tr>\n",
       "  </thead>\n",
       "  <tbody>\n",
       "    <tr>\n",
       "      <th>2020</th>\n",
       "      <td>5.511817e+08</td>\n",
       "      <td>42837.938954</td>\n",
       "      <td>425.764538</td>\n",
       "      <td>990.350338</td>\n",
       "      <td>7.982709</td>\n",
       "      <td>7.164571e+05</td>\n",
       "      <td>4.650458e+05</td>\n",
       "      <td>8.199230e+03</td>\n",
       "      <td>1.000000e+00</td>\n",
       "      <td>74279.474138</td>\n",
       "      <td>0.290205</td>\n",
       "      <td>0.287143</td>\n",
       "      <td>0.000738</td>\n",
       "      <td>0.000000</td>\n",
       "      <td>363.410920</td>\n",
       "      <td>49077.500000</td>\n",
       "      <td>0.034420</td>\n",
       "      <td>1006.511365</td>\n",
       "    </tr>\n",
       "    <tr>\n",
       "      <th>2021</th>\n",
       "      <td>5.507007e+08</td>\n",
       "      <td>76299.791715</td>\n",
       "      <td>1022.586635</td>\n",
       "      <td>1342.544707</td>\n",
       "      <td>14.061087</td>\n",
       "      <td>1.410097e+08</td>\n",
       "      <td>7.473558e+07</td>\n",
       "      <td>5.485143e+07</td>\n",
       "      <td>6.645961e+06</td>\n",
       "      <td>558566.950278</td>\n",
       "      <td>61.242191</td>\n",
       "      <td>33.775779</td>\n",
       "      <td>27.800623</td>\n",
       "      <td>4.950560</td>\n",
       "      <td>3277.363829</td>\n",
       "      <td>243571.587057</td>\n",
       "      <td>0.157281</td>\n",
       "      <td>1324.765157</td>\n",
       "    </tr>\n",
       "    <tr>\n",
       "      <th>2022</th>\n",
       "      <td>5.481543e+08</td>\n",
       "      <td>202898.168462</td>\n",
       "      <td>3362.265360</td>\n",
       "      <td>669.430260</td>\n",
       "      <td>8.555170</td>\n",
       "      <td>4.804568e+08</td>\n",
       "      <td>2.154228e+08</td>\n",
       "      <td>1.873369e+08</td>\n",
       "      <td>7.587129e+07</td>\n",
       "      <td>328903.193639</td>\n",
       "      <td>154.733431</td>\n",
       "      <td>65.990661</td>\n",
       "      <td>60.094418</td>\n",
       "      <td>33.401969</td>\n",
       "      <td>1708.750359</td>\n",
       "      <td>75875.749112</td>\n",
       "      <td>0.040428</td>\n",
       "      <td>646.585754</td>\n",
       "    </tr>\n",
       "  </tbody>\n",
       "</table>\n",
       "</div>"
      ],
      "text/plain": [
       "                Id   Weekly Cases  Weekly Cases per Million  Weekly Deaths  \\\n",
       "Year                                                                         \n",
       "2020  5.511817e+08   42837.938954                425.764538     990.350338   \n",
       "2021  5.507007e+08   76299.791715               1022.586635    1342.544707   \n",
       "2022  5.481543e+08  202898.168462               3362.265360     669.430260   \n",
       "\n",
       "      Weekly Deaths per Million  Total Vaccinations  People Vaccinated  \\\n",
       "Year                                                                     \n",
       "2020                   7.982709        7.164571e+05       4.650458e+05   \n",
       "2021                  14.061087        1.410097e+08       7.473558e+07   \n",
       "2022                   8.555170        4.804568e+08       2.154228e+08   \n",
       "\n",
       "      People Fully Vaccinated  Total Boosters  Daily Vaccinations  \\\n",
       "Year                                                                \n",
       "2020             8.199230e+03    1.000000e+00        74279.474138   \n",
       "2021             5.485143e+07    6.645961e+06       558566.950278   \n",
       "2022             1.873369e+08    7.587129e+07       328903.193639   \n",
       "\n",
       "      Total Vaccinations per Hundred  People Vaccinated per Hundred  \\\n",
       "Year                                                                  \n",
       "2020                        0.290205                       0.287143   \n",
       "2021                       61.242191                      33.775779   \n",
       "2022                      154.733431                      65.990661   \n",
       "\n",
       "      People Fully Vaccinated per Hundred  Total Boosters per Hundred  \\\n",
       "Year                                                                    \n",
       "2020                             0.000738                    0.000000   \n",
       "2021                            27.800623                    4.950560   \n",
       "2022                            60.094418                   33.401969   \n",
       "\n",
       "      Daily Vaccinations per Hundred  Daily People Vaccinated  \\\n",
       "Year                                                            \n",
       "2020                      363.410920             49077.500000   \n",
       "2021                     3277.363829            243571.587057   \n",
       "2022                     1708.750359             75875.749112   \n",
       "\n",
       "      Daily People Vaccinated per Hundred  Next Week's Deaths  \n",
       "Year                                                           \n",
       "2020                             0.034420         1006.511365  \n",
       "2021                             0.157281         1324.765157  \n",
       "2022                             0.040428          646.585754  "
      ]
     },
     "execution_count": 8,
     "metadata": {},
     "output_type": "execute_result"
    }
   ],
   "source": [
    "df.groupby('Year').mean()"
   ]
  },
  {
   "cell_type": "code",
   "execution_count": 9,
   "id": "088d3e34",
   "metadata": {},
   "outputs": [
    {
     "data": {
      "text/plain": [
       "Index(['Id', 'Location', 'Weekly Cases', 'Year', 'Weekly Cases per Million',\n",
       "       'Weekly Deaths', 'Weekly Deaths per Million', 'Total Vaccinations',\n",
       "       'People Vaccinated', 'People Fully Vaccinated', 'Total Boosters',\n",
       "       'Daily Vaccinations', 'Total Vaccinations per Hundred',\n",
       "       'People Vaccinated per Hundred', 'People Fully Vaccinated per Hundred',\n",
       "       'Total Boosters per Hundred', 'Daily Vaccinations per Hundred',\n",
       "       'Daily People Vaccinated', 'Daily People Vaccinated per Hundred',\n",
       "       'Next Week's Deaths'],\n",
       "      dtype='object')"
      ]
     },
     "execution_count": 9,
     "metadata": {},
     "output_type": "execute_result"
    }
   ],
   "source": [
    "df.columns"
   ]
  },
  {
   "cell_type": "code",
   "execution_count": 10,
   "id": "67751158",
   "metadata": {},
   "outputs": [
    {
     "data": {
      "text/plain": [
       "Id                                      0.000000\n",
       "Location                                0.000000\n",
       "Weekly Cases                            0.164917\n",
       "Year                                    0.000000\n",
       "Weekly Cases per Million                0.672055\n",
       "Weekly Deaths                           0.974016\n",
       "Weekly Deaths per Million               1.478058\n",
       "Total Vaccinations                     68.820651\n",
       "People Vaccinated                      70.246059\n",
       "People Fully Vaccinated                71.682307\n",
       "Total Boosters                         84.633312\n",
       "Daily Vaccinations                     39.731797\n",
       "Total Vaccinations per Hundred         68.820651\n",
       "People Vaccinated per Hundred          70.246059\n",
       "People Fully Vaccinated per Hundred    71.682307\n",
       "Total Boosters per Hundred             84.633312\n",
       "Daily Vaccinations per Hundred         39.731797\n",
       "Daily People Vaccinated                40.079439\n",
       "Daily People Vaccinated per Hundred    40.079439\n",
       "Next Week's Deaths                      0.000000\n",
       "dtype: float64"
      ]
     },
     "execution_count": 10,
     "metadata": {},
     "output_type": "execute_result"
    }
   ],
   "source": [
    "df.isnull().mean() * 100\n",
    "\n"
   ]
  },
  {
   "cell_type": "code",
   "execution_count": 11,
   "id": "50fcfb74",
   "metadata": {},
   "outputs": [
    {
     "data": {
      "text/plain": [
       "{'Daily People Vaccinated',\n",
       " 'People Fully Vaccinated',\n",
       " 'People Fully Vaccinated per Hundred',\n",
       " 'People Vaccinated',\n",
       " 'People Vaccinated per Hundred',\n",
       " 'Total Boosters'}"
      ]
     },
     "execution_count": 11,
     "metadata": {},
     "output_type": "execute_result"
    }
   ],
   "source": [
    "{'Daily People Vaccinated',\n",
    " 'People Fully Vaccinated',\n",
    " 'People Fully Vaccinated per Hundred',\n",
    " 'People Vaccinated',\n",
    " 'People Vaccinated per Hundred',\n",
    " 'Total Boosters'}"
   ]
  },
  {
   "cell_type": "code",
   "execution_count": 12,
   "id": "eb8f9c59",
   "metadata": {},
   "outputs": [
    {
     "data": {
      "text/plain": [
       "<AxesSubplot:ylabel='Density'>"
      ]
     },
     "execution_count": 12,
     "metadata": {},
     "output_type": "execute_result"
    },
    {
     "data": {
      "image/png": "[encoded data removed]",
      "text/plain": [
       "<Figure size 432x288 with 1 Axes>"
      ]
     },
     "metadata": {
      "needs_background": "light"
     },
     "output_type": "display_data"
    }
   ],
   "source": [
    "df['Total Vaccinations per Hundred'].plot(kind='kde')"
   ]
  },
  {
   "cell_type": "code",
   "execution_count": 13,
   "id": "56b3e5e4",
   "metadata": {},
   "outputs": [],
   "source": [
    "df['Daily Vaccinations per Hundred'].fillna(value=df['Daily Vaccinations per Hundred'].median(),inplace=True)\n",
    "df['Daily People Vaccinated per Hundred'].fillna(value=df['Daily People Vaccinated per Hundred'].median(),inplace=True)\n",
    "df['Total Boosters'].fillna(value=df['Total Boosters'].median(),inplace=True)\n",
    "df['Total Boosters per Hundred'].fillna(value=df['Total Boosters per Hundred'].median(),inplace=True)\n",
    "df['Weekly Cases'].fillna(value=df['Weekly Cases'].mean(),inplace=True)\n",
    "df['Weekly Deaths'].fillna(value=df['Weekly Deaths'].mean(),inplace=True)\n",
    "df['Weekly Cases per Million'].fillna(value=df['Weekly Cases per Million'].median(),inplace=True)\n",
    "df['Weekly Deaths per Million'].fillna(value=df['Weekly Deaths per Million'].median(),inplace=True)\n",
    "df['Total Vaccinations'].fillna(value=df['Total Vaccinations'].median(),inplace=True)\n",
    "df['People Vaccinated'].fillna(value=df['People Vaccinated'].median(),inplace=True)\n",
    "df['People Fully Vaccinated'].fillna(value=df['People Fully Vaccinated'].median(),inplace=True)\n",
    "df['Daily Vaccinations'].fillna(value=df['Daily Vaccinations'].median(),inplace=True)\n",
    "df['Daily People Vaccinated'].fillna(value=df['Daily People Vaccinated'].median(),inplace=True)\n",
    "df['Total Vaccinations per Hundred'].fillna(value=df['Total Vaccinations per Hundred'].median(),inplace=True)\n",
    "df['People Vaccinated per Hundred'].fillna(value=df['People Vaccinated per Hundred'].median(),inplace=True)\n",
    "df['People Fully Vaccinated per Hundred'].fillna(value=df['People Fully Vaccinated per Hundred'].median(),inplace=True)"
   ]
  },
  {
   "cell_type": "code",
   "execution_count": 14,
   "id": "8f6ca206",
   "metadata": {},
   "outputs": [
    {
     "name": "stdout",
     "output_type": "stream",
     "text": [
      "<class 'pandas.core.frame.DataFrame'>\n",
      "RangeIndex: 129156 entries, 0 to 129155\n",
      "Data columns (total 20 columns):\n",
      " #   Column                               Non-Null Count   Dtype  \n",
      "---  ------                               --------------   -----  \n",
      " 0   Id                                   129156 non-null  int64  \n",
      " 1   Location                             129156 non-null  object \n",
      " 2   Weekly Cases                         129156 non-null  float64\n",
      " 3   Year                                 129156 non-null  int64  \n",
      " 4   Weekly Cases per Million             129156 non-null  float64\n",
      " 5   Weekly Deaths                        129156 non-null  float64\n",
      " 6   Weekly Deaths per Million            129156 non-null  float64\n",
      " 7   Total Vaccinations                   129156 non-null  float64\n",
      " 8   People Vaccinated                    129156 non-null  float64\n",
      " 9   People Fully Vaccinated              129156 non-null  float64\n",
      " 10  Total Boosters                       129156 non-null  float64\n",
      " 11  Daily Vaccinations                   129156 non-null  float64\n",
      " 12  Total Vaccinations per Hundred       129156 non-null  float64\n",
      " 13  People Vaccinated per Hundred        129156 non-null  float64\n",
      " 14  People Fully Vaccinated per Hundred  129156 non-null  float64\n",
      " 15  Total Boosters per Hundred           129156 non-null  float64\n",
      " 16  Daily Vaccinations per Hundred       129156 non-null  float64\n",
      " 17  Daily People Vaccinated              129156 non-null  float64\n",
      " 18  Daily People Vaccinated per Hundred  129156 non-null  float64\n",
      " 19  Next Week's Deaths                   129156 non-null  float64\n",
      "dtypes: float64(17), int64(2), object(1)\n",
      "memory usage: 19.7+ MB\n"
     ]
    }
   ],
   "source": [
    "df.info()"
   ]
  },
  {
   "cell_type": "code",
   "execution_count": 16,
   "id": "719691f1",
   "metadata": {},
   "outputs": [],
   "source": [
    "Location=df['Location'].value_counts().to_dict()"
   ]
  },
  {
   "cell_type": "code",
   "execution_count": 17,
   "id": "785cb797",
   "metadata": {},
   "outputs": [],
   "source": [
    "df['Location']=df['Location'].map(Location)"
   ]
  },
  {
   "cell_type": "code",
   "execution_count": 18,
   "id": "c688d255",
   "metadata": {},
   "outputs": [],
   "source": [
    "X = df.drop(['''Next Week's Deaths'''],axis=1)\n",
    "y= df['''Next Week's Deaths''']"
   ]
  },
  {
   "cell_type": "code",
   "execution_count": 19,
   "id": "196dd66f",
   "metadata": {},
   "outputs": [],
   "source": [
    "from sklearn.model_selection import train_test_split"
   ]
  },
  {
   "cell_type": "code",
   "execution_count": 20,
   "id": "8f944e0b",
   "metadata": {},
   "outputs": [],
   "source": [
    "X_train, X_test, y_train, y_test = train_test_split(X, y, test_size=0.4, random_state=101)"
   ]
  },
  {
   "cell_type": "code",
   "execution_count": 21,
   "id": "5fdb710c",
   "metadata": {},
   "outputs": [
    {
     "data": {
      "text/plain": [
       "VarianceThreshold(threshold=0.01)"
      ]
     },
     "execution_count": 21,
     "metadata": {},
     "output_type": "execute_result"
    }
   ],
   "source": [
    "from sklearn.feature_selection import VarianceThreshold\n",
    "var_thres=VarianceThreshold(threshold=0.01)\n",
    "var_thres.fit(X_train)"
   ]
  },
  {
   "cell_type": "code",
   "execution_count": 22,
   "id": "0def596f",
   "metadata": {},
   "outputs": [
    {
     "name": "stdout",
     "output_type": "stream",
     "text": [
      "0\n"
     ]
    }
   ],
   "source": [
    "constant_columns = [column for column in X_train.columns\n",
    "                    if column not in X_train.columns[var_thres.get_support()]]\n",
    "\n",
    "print(len(constant_columns))"
   ]
  },
  {
   "cell_type": "code",
   "execution_count": 23,
   "id": "4a33bdc3",
   "metadata": {},
   "outputs": [],
   "source": [
    "def correlation(dataset, threshold):\n",
    "    col_corr = set()  # Set of all the names of correlated columns\n",
    "    corr_matrix = dataset.corr()\n",
    "    for i in range(len(corr_matrix.columns)):\n",
    "        for j in range(i):\n",
    "            if abs(corr_matrix.iloc[i, j]) > threshold: # we are interested in absolute coeff value\n",
    "                colname = corr_matrix.columns[i]  # getting the name of column\n",
    "                col_corr.add(colname)\n",
    "    return col_corr"
   ]
  },
  {
   "cell_type": "code",
   "execution_count": 24,
   "id": "fc8ecf74",
   "metadata": {},
   "outputs": [
    {
     "data": {
      "text/plain": [
       "6"
      ]
     },
     "execution_count": 24,
     "metadata": {},
     "output_type": "execute_result"
    }
   ],
   "source": [
    "corr_features = correlation(X_train, 0.8)\n",
    "len(set(corr_features))"
   ]
  },
  {
   "cell_type": "code",
   "execution_count": 25,
   "id": "6da27da7",
   "metadata": {},
   "outputs": [
    {
     "data": {
      "text/plain": [
       "{'Daily People Vaccinated',\n",
       " 'People Fully Vaccinated',\n",
       " 'People Fully Vaccinated per Hundred',\n",
       " 'People Vaccinated',\n",
       " 'People Vaccinated per Hundred',\n",
       " 'Total Boosters'}"
      ]
     },
     "execution_count": 25,
     "metadata": {},
     "output_type": "execute_result"
    }
   ],
   "source": [
    "corr_features"
   ]
  },
  {
   "cell_type": "code",
   "execution_count": 26,
   "id": "a9adab1c",
   "metadata": {},
   "outputs": [
    {
     "name": "stderr",
     "output_type": "stream",
     "text": [
      "C:\\Users\\chand\\anaconda3\\lib\\site-packages\\pandas\\core\\frame.py:4308: SettingWithCopyWarning: \n",
      "A value is trying to be set on a copy of a slice from a DataFrame\n",
      "\n",
      "See the caveats in the documentation: https://pandas.pydata.org/pandas-docs/stable/user_guide/indexing.html#returning-a-view-versus-a-copy\n",
      "  return super().drop(\n"
     ]
    }
   ],
   "source": [
    "X_train.drop(corr_features,axis=1,inplace=True)"
   ]
  },
  {
   "cell_type": "code",
   "execution_count": 27,
   "id": "88584d6b",
   "metadata": {},
   "outputs": [],
   "source": [
    "X_test.drop(corr_features,axis=1,inplace=True)"
   ]
  },
  {
   "cell_type": "code",
   "execution_count": 28,
   "id": "facf0931",
   "metadata": {},
   "outputs": [
    {
     "data": {
      "text/html": [
       "<div>\n",
       "<style scoped>\n",
       "    .dataframe tbody tr th:only-of-type {\n",
       "        vertical-align: middle;\n",
       "    }\n",
       "\n",
       "    .dataframe tbody tr th {\n",
       "        vertical-align: top;\n",
       "    }\n",
       "\n",
       "    .dataframe thead th {\n",
       "        text-align: right;\n",
       "    }\n",
       "</style>\n",
       "<table border=\"1\" class=\"dataframe\">\n",
       "  <thead>\n",
       "    <tr style=\"text-align: right;\">\n",
       "      <th></th>\n",
       "      <th>Id</th>\n",
       "      <th>Location</th>\n",
       "      <th>Weekly Cases</th>\n",
       "      <th>Year</th>\n",
       "      <th>Weekly Cases per Million</th>\n",
       "      <th>Weekly Deaths</th>\n",
       "      <th>Weekly Deaths per Million</th>\n",
       "      <th>Total Vaccinations</th>\n",
       "      <th>Daily Vaccinations</th>\n",
       "      <th>Total Vaccinations per Hundred</th>\n",
       "      <th>Total Boosters per Hundred</th>\n",
       "      <th>Daily Vaccinations per Hundred</th>\n",
       "      <th>Daily People Vaccinated per Hundred</th>\n",
       "    </tr>\n",
       "  </thead>\n",
       "  <tbody>\n",
       "    <tr>\n",
       "      <th>13936</th>\n",
       "      <td>755862910</td>\n",
       "      <td>595</td>\n",
       "      <td>2353.0</td>\n",
       "      <td>2022</td>\n",
       "      <td>5882.044</td>\n",
       "      <td>8.0</td>\n",
       "      <td>19.998</td>\n",
       "      <td>7772026.5</td>\n",
       "      <td>338.0</td>\n",
       "      <td>79.195</td>\n",
       "      <td>9.78</td>\n",
       "      <td>845.0</td>\n",
       "      <td>0.011</td>\n",
       "    </tr>\n",
       "    <tr>\n",
       "      <th>14701</th>\n",
       "      <td>670597532</td>\n",
       "      <td>594</td>\n",
       "      <td>29.0</td>\n",
       "      <td>2020</td>\n",
       "      <td>451.819</td>\n",
       "      <td>1.0</td>\n",
       "      <td>15.580</td>\n",
       "      <td>7772026.5</td>\n",
       "      <td>9182.5</td>\n",
       "      <td>79.195</td>\n",
       "      <td>9.78</td>\n",
       "      <td>1498.0</td>\n",
       "      <td>0.046</td>\n",
       "    </tr>\n",
       "    <tr>\n",
       "      <th>111128</th>\n",
       "      <td>795774293</td>\n",
       "      <td>645</td>\n",
       "      <td>7099.0</td>\n",
       "      <td>2021</td>\n",
       "      <td>326.039</td>\n",
       "      <td>410.0</td>\n",
       "      <td>18.830</td>\n",
       "      <td>26376809.0</td>\n",
       "      <td>80474.0</td>\n",
       "      <td>121.140</td>\n",
       "      <td>9.78</td>\n",
       "      <td>3696.0</td>\n",
       "      <td>0.166</td>\n",
       "    </tr>\n",
       "    <tr>\n",
       "      <th>81177</th>\n",
       "      <td>303122206</td>\n",
       "      <td>608</td>\n",
       "      <td>0.0</td>\n",
       "      <td>2020</td>\n",
       "      <td>0.000</td>\n",
       "      <td>0.0</td>\n",
       "      <td>0.000</td>\n",
       "      <td>7772026.5</td>\n",
       "      <td>9182.5</td>\n",
       "      <td>79.195</td>\n",
       "      <td>9.78</td>\n",
       "      <td>1498.0</td>\n",
       "      <td>0.046</td>\n",
       "    </tr>\n",
       "    <tr>\n",
       "      <th>122435</th>\n",
       "      <td>127904875</td>\n",
       "      <td>648</td>\n",
       "      <td>158796.0</td>\n",
       "      <td>2020</td>\n",
       "      <td>2360.189</td>\n",
       "      <td>1658.0</td>\n",
       "      <td>24.643</td>\n",
       "      <td>7772026.5</td>\n",
       "      <td>9182.5</td>\n",
       "      <td>79.195</td>\n",
       "      <td>9.78</td>\n",
       "      <td>1498.0</td>\n",
       "      <td>0.046</td>\n",
       "    </tr>\n",
       "    <tr>\n",
       "      <th>...</th>\n",
       "      <td>...</td>\n",
       "      <td>...</td>\n",
       "      <td>...</td>\n",
       "      <td>...</td>\n",
       "      <td>...</td>\n",
       "      <td>...</td>\n",
       "      <td>...</td>\n",
       "      <td>...</td>\n",
       "      <td>...</td>\n",
       "      <td>...</td>\n",
       "      <td>...</td>\n",
       "      <td>...</td>\n",
       "      <td>...</td>\n",
       "    </tr>\n",
       "    <tr>\n",
       "      <th>5695</th>\n",
       "      <td>798307298</td>\n",
       "      <td>661</td>\n",
       "      <td>76851.0</td>\n",
       "      <td>2021</td>\n",
       "      <td>1697.360</td>\n",
       "      <td>1546.0</td>\n",
       "      <td>34.146</td>\n",
       "      <td>37393260.0</td>\n",
       "      <td>345776.0</td>\n",
       "      <td>82.590</td>\n",
       "      <td>0.00</td>\n",
       "      <td>7637.0</td>\n",
       "      <td>0.196</td>\n",
       "    </tr>\n",
       "    <tr>\n",
       "      <th>73542</th>\n",
       "      <td>909722437</td>\n",
       "      <td>599</td>\n",
       "      <td>0.0</td>\n",
       "      <td>2021</td>\n",
       "      <td>0.000</td>\n",
       "      <td>0.0</td>\n",
       "      <td>0.000</td>\n",
       "      <td>7772026.5</td>\n",
       "      <td>9182.5</td>\n",
       "      <td>79.195</td>\n",
       "      <td>9.78</td>\n",
       "      <td>1498.0</td>\n",
       "      <td>0.046</td>\n",
       "    </tr>\n",
       "    <tr>\n",
       "      <th>83281</th>\n",
       "      <td>815250410</td>\n",
       "      <td>635</td>\n",
       "      <td>5768.0</td>\n",
       "      <td>2021</td>\n",
       "      <td>107.216</td>\n",
       "      <td>44.0</td>\n",
       "      <td>0.818</td>\n",
       "      <td>7772026.5</td>\n",
       "      <td>5075.0</td>\n",
       "      <td>79.195</td>\n",
       "      <td>9.78</td>\n",
       "      <td>94.0</td>\n",
       "      <td>0.063</td>\n",
       "    </tr>\n",
       "    <tr>\n",
       "      <th>83467</th>\n",
       "      <td>879702279</td>\n",
       "      <td>635</td>\n",
       "      <td>22190.0</td>\n",
       "      <td>2022</td>\n",
       "      <td>412.468</td>\n",
       "      <td>34.0</td>\n",
       "      <td>0.632</td>\n",
       "      <td>7772026.5</td>\n",
       "      <td>115019.0</td>\n",
       "      <td>79.195</td>\n",
       "      <td>9.78</td>\n",
       "      <td>2138.0</td>\n",
       "      <td>0.087</td>\n",
       "    </tr>\n",
       "    <tr>\n",
       "      <th>45919</th>\n",
       "      <td>804202705</td>\n",
       "      <td>641</td>\n",
       "      <td>110.0</td>\n",
       "      <td>2021</td>\n",
       "      <td>41.668</td>\n",
       "      <td>9.0</td>\n",
       "      <td>3.409</td>\n",
       "      <td>7772026.5</td>\n",
       "      <td>985.0</td>\n",
       "      <td>79.195</td>\n",
       "      <td>9.78</td>\n",
       "      <td>373.0</td>\n",
       "      <td>0.021</td>\n",
       "    </tr>\n",
       "  </tbody>\n",
       "</table>\n",
       "<p>77493 rows × 13 columns</p>\n",
       "</div>"
      ],
      "text/plain": [
       "               Id  Location  Weekly Cases  Year  Weekly Cases per Million  \\\n",
       "13936   755862910       595        2353.0  2022                  5882.044   \n",
       "14701   670597532       594          29.0  2020                   451.819   \n",
       "111128  795774293       645        7099.0  2021                   326.039   \n",
       "81177   303122206       608           0.0  2020                     0.000   \n",
       "122435  127904875       648      158796.0  2020                  2360.189   \n",
       "...           ...       ...           ...   ...                       ...   \n",
       "5695    798307298       661       76851.0  2021                  1697.360   \n",
       "73542   909722437       599           0.0  2021                     0.000   \n",
       "83281   815250410       635        5768.0  2021                   107.216   \n",
       "83467   879702279       635       22190.0  2022                   412.468   \n",
       "45919   804202705       641         110.0  2021                    41.668   \n",
       "\n",
       "        Weekly Deaths  Weekly Deaths per Million  Total Vaccinations  \\\n",
       "13936             8.0                     19.998           7772026.5   \n",
       "14701             1.0                     15.580           7772026.5   \n",
       "111128          410.0                     18.830          26376809.0   \n",
       "81177             0.0                      0.000           7772026.5   \n",
       "122435         1658.0                     24.643           7772026.5   \n",
       "...               ...                        ...                 ...   \n",
       "5695           1546.0                     34.146          37393260.0   \n",
       "73542             0.0                      0.000           7772026.5   \n",
       "83281            44.0                      0.818           7772026.5   \n",
       "83467            34.0                      0.632           7772026.5   \n",
       "45919             9.0                      3.409           7772026.5   \n",
       "\n",
       "        Daily Vaccinations  Total Vaccinations per Hundred  \\\n",
       "13936                338.0                          79.195   \n",
       "14701               9182.5                          79.195   \n",
       "111128             80474.0                         121.140   \n",
       "81177               9182.5                          79.195   \n",
       "122435              9182.5                          79.195   \n",
       "...                    ...                             ...   \n",
       "5695              345776.0                          82.590   \n",
       "73542               9182.5                          79.195   \n",
       "83281               5075.0                          79.195   \n",
       "83467             115019.0                          79.195   \n",
       "45919                985.0                          79.195   \n",
       "\n",
       "        Total Boosters per Hundred  Daily Vaccinations per Hundred  \\\n",
       "13936                         9.78                           845.0   \n",
       "14701                         9.78                          1498.0   \n",
       "111128                        9.78                          3696.0   \n",
       "81177                         9.78                          1498.0   \n",
       "122435                        9.78                          1498.0   \n",
       "...                            ...                             ...   \n",
       "5695                          0.00                          7637.0   \n",
       "73542                         9.78                          1498.0   \n",
       "83281                         9.78                            94.0   \n",
       "83467                         9.78                          2138.0   \n",
       "45919                         9.78                           373.0   \n",
       "\n",
       "        Daily People Vaccinated per Hundred  \n",
       "13936                                 0.011  \n",
       "14701                                 0.046  \n",
       "111128                                0.166  \n",
       "81177                                 0.046  \n",
       "122435                                0.046  \n",
       "...                                     ...  \n",
       "5695                                  0.196  \n",
       "73542                                 0.046  \n",
       "83281                                 0.063  \n",
       "83467                                 0.087  \n",
       "45919                                 0.021  \n",
       "\n",
       "[77493 rows x 13 columns]"
      ]
     },
     "execution_count": 28,
     "metadata": {},
     "output_type": "execute_result"
    }
   ],
   "source": [
    "X_train"
   ]
  },
  {
   "cell_type": "code",
   "execution_count": 29,
   "id": "df551bfb",
   "metadata": {},
   "outputs": [],
   "source": [
    "from sklearn.model_selection import RandomizedSearchCV\n",
    "import xgboost"
   ]
  },
  {
   "cell_type": "code",
   "execution_count": 30,
   "id": "3171ed17",
   "metadata": {},
   "outputs": [],
   "source": [
    "model = xgboost.XGBRegressor()"
   ]
  },
  {
   "cell_type": "code",
   "execution_count": 31,
   "id": "01da777f",
   "metadata": {},
   "outputs": [],
   "source": [
    "params={\n",
    " \"learning_rate\"    : [0.05, 0.10, 0.15, 0.20, 0.25, 0.30 ] ,\n",
    " \"max_depth\"        : [ 3, 4, 5, 6, 8, 10, 12, 15],\n",
    " \"min_child_weight\" : [ 1, 3, 5, 7 ],\n",
    " \"gamma\"            : [ 0.0, 0.1, 0.2 , 0.3, 0.4 ],\n",
    " \"colsample_bytree\" : [ 0.3, 0.4, 0.5 , 0.7 ]\n",
    "    \n",
    "}"
   ]
  },
  {
   "cell_type": "code",
   "execution_count": 32,
   "id": "0058a49d",
   "metadata": {},
   "outputs": [],
   "source": [
    "random_search=RandomizedSearchCV(model,param_distributions=params,n_iter=5,scoring='neg_mean_absolute_error',n_jobs=-1,cv=5,verbose=3)"
   ]
  },
  {
   "cell_type": "code",
   "execution_count": 33,
   "id": "17e0d4cb",
   "metadata": {},
   "outputs": [
    {
     "name": "stdout",
     "output_type": "stream",
     "text": [
      "Fitting 5 folds for each of 5 candidates, totalling 25 fits\n"
     ]
    },
    {
     "data": {
      "text/plain": [
       "RandomizedSearchCV(cv=5,\n",
       "                   estimator=XGBRegressor(base_score=None, booster=None,\n",
       "                                          callbacks=None,\n",
       "                                          colsample_bylevel=None,\n",
       "                                          colsample_bynode=None,\n",
       "                                          colsample_bytree=None,\n",
       "                                          early_stopping_rounds=None,\n",
       "                                          enable_categorical=False,\n",
       "                                          eval_metric=None, gamma=None,\n",
       "                                          gpu_id=None, grow_policy=None,\n",
       "                                          importance_type=None,\n",
       "                                          interaction_constraints=None,\n",
       "                                          learning_rate=None, max_bin=None,\n",
       "                                          m...\n",
       "                                          num_parallel_tree=None,\n",
       "                                          predictor=None, random_state=None,\n",
       "                                          reg_alpha=None, reg_lambda=None, ...),\n",
       "                   n_iter=5, n_jobs=-1,\n",
       "                   param_distributions={'colsample_bytree': [0.3, 0.4, 0.5,\n",
       "                                                             0.7],\n",
       "                                        'gamma': [0.0, 0.1, 0.2, 0.3, 0.4],\n",
       "                                        'learning_rate': [0.05, 0.1, 0.15, 0.2,\n",
       "                                                          0.25, 0.3],\n",
       "                                        'max_depth': [3, 4, 5, 6, 8, 10, 12,\n",
       "                                                      15],\n",
       "                                        'min_child_weight': [1, 3, 5, 7]},\n",
       "                   scoring='neg_mean_absolute_error', verbose=3)"
      ]
     },
     "execution_count": 33,
     "metadata": {},
     "output_type": "execute_result"
    }
   ],
   "source": [
    "random_search.fit(X_train,y_train)"
   ]
  },
  {
   "cell_type": "code",
   "execution_count": null,
   "id": "9254000c",
   "metadata": {},
   "outputs": [],
   "source": [
    "predictions = random_search.predict(X_test)"
   ]
  },
  {
   "cell_type": "code",
   "execution_count": null,
   "id": "b836e2e3",
   "metadata": {},
   "outputs": [],
   "source": [
    "plt.scatter(x=y_test,y=predictions)"
   ]
  },
  {
   "cell_type": "code",
   "execution_count": null,
   "id": "66e16062",
   "metadata": {},
   "outputs": [],
   "source": [
    "from sklearn import metrics"
   ]
  },
  {
   "cell_type": "code",
   "execution_count": null,
   "id": "d189ae19",
   "metadata": {},
   "outputs": [],
   "source": [
    "print('MAE:', metrics.mean_absolute_error(y_test, predictions))"
   ]
  },
  {
   "cell_type": "code",
   "execution_count": null,
   "id": "cea06c85",
   "metadata": {},
   "outputs": [],
   "source": [
    "print('RMSE:', np.sqrt(metrics.mean_squared_error(y_test, predictions)))"
   ]
  },
  {
   "cell_type": "code",
   "execution_count": null,
   "id": "139fff19",
   "metadata": {},
   "outputs": [],
   "source": [
    "from tensorflow.keras.models import Sequential\n",
    "from tensorflow.keras.layers import Dense, Activation\n",
    "from tensorflow.keras.optimizers import Adam"
   ]
  },
  {
   "cell_type": "code",
   "execution_count": null,
   "id": "951c4361",
   "metadata": {},
   "outputs": [],
   "source": [
    "model = Sequential()\n",
    "\n",
    "model.add(Dense(13,activation='relu'))\n",
    "model.add(Dense(13,activation='relu'))\n",
    "model.add(Dense(13,activation='relu'))\n",
    "model.add(Dense(1))\n",
    "\n",
    "model.compile(optimizer='adam',loss='mse')"
   ]
  },
  {
   "cell_type": "code",
   "execution_count": null,
   "id": "a957f0cc",
   "metadata": {},
   "outputs": [],
   "source": [
    "model.fit(x=X_train,y=y_train.values,\n",
    "          validation_data=(X_test,y_test.values),verbose=1,\n",
    "          batch_size=128,epochs=150)"
   ]
  },
  {
   "cell_type": "code",
   "execution_count": null,
   "id": "dddebbec",
   "metadata": {},
   "outputs": [],
   "source": [
    "losses = pd.DataFrame(model.history.history)\n"
   ]
  },
  {
   "cell_type": "code",
   "execution_count": null,
   "id": "a54309bc",
   "metadata": {},
   "outputs": [],
   "source": [
    "from sklearn.metrics import mean_squared_error,mean_absolute_error,explained_variance_score\n"
   ]
  },
  {
   "cell_type": "code",
   "execution_count": null,
   "id": "95226519",
   "metadata": {},
   "outputs": [],
   "source": [
    "predictions = model.predict(X_test)\n",
    "np.sqrt(mean_squared_error(y_test,predictions))\n"
   ]
  },
  {
   "cell_type": "code",
   "execution_count": null,
   "id": "7b4c3d0e",
   "metadata": {},
   "outputs": [],
   "source": [
    "test_data = pd.read_csv(\"D:/Covid19-Death-Predictions/test.csv\")"
   ]
  },
  {
   "cell_type": "code",
   "execution_count": null,
   "id": "b535ab2b",
   "metadata": {},
   "outputs": [],
   "source": [
    "test_data['Daily Vaccinations per Hundred'].fillna(value=df['Daily Vaccinations per Hundred'].median(),inplace=True)\n",
    "test_data['Daily People Vaccinated per Hundred'].fillna(value=df['Daily People Vaccinated per Hundred'].median(),inplace=True)\n",
    "test_data['Total Boosters'].fillna(value=df['Total Boosters'].median(),inplace=True)\n",
    "test_data['Total Boosters per Hundred'].fillna(value=df['Total Boosters per Hundred'].median(),inplace=True)\n",
    "test_data['Weekly Cases'].fillna(value=df['Weekly Cases'].mean(),inplace=True)\n",
    "test_data['Weekly Deaths'].fillna(value=df['Weekly Deaths'].mean(),inplace=True)\n",
    "test_data['Weekly Cases per Million'].fillna(value=df['Weekly Cases per Million'].median(),inplace=True)\n",
    "test_data['Weekly Deaths per Million'].fillna(value=df['Weekly Deaths per Million'].median(),inplace=True)\n",
    "test_data['Total Vaccinations'].fillna(value=df['Total Vaccinations'].median(),inplace=True)\n",
    "test_data['People Vaccinated'].fillna(value=df['People Vaccinated'].median(),inplace=True)\n",
    "test_data['People Fully Vaccinated'].fillna(value=df['People Fully Vaccinated'].median(),inplace=True)\n",
    "test_data['Daily Vaccinations'].fillna(value=df['Daily Vaccinations'].median(),inplace=True)\n",
    "test_data['Daily People Vaccinated'].fillna(value=df['Daily People Vaccinated'].median(),inplace=True)\n",
    "test_data['Total Vaccinations per Hundred'].fillna(value=df['Total Vaccinations per Hundred'].median(),inplace=True)\n",
    "test_data['People Vaccinated per Hundred'].fillna(value=df['People Vaccinated per Hundred'].median(),inplace=True)\n",
    "test_data['People Fully Vaccinated per Hundred'].fillna(value=df['People Fully Vaccinated per Hundred'].median(),inplace=True)"
   ]
  },
  {
   "cell_type": "code",
   "execution_count": null,
   "id": "c95cb6af",
   "metadata": {
    "scrolled": true
   },
   "outputs": [],
   "source": [
    "test_data.isnull().sum()"
   ]
  },
  {
   "cell_type": "code",
   "execution_count": null,
   "id": "458713c0",
   "metadata": {},
   "outputs": [],
   "source": [
    "test_data['Location']=test_data['Location'].map(Location)"
   ]
  },
  {
   "cell_type": "code",
   "execution_count": null,
   "id": "d9eaea5c",
   "metadata": {},
   "outputs": [],
   "source": [
    "test_data.drop(corr_features,axis=1,inplace=True)"
   ]
  },
  {
   "cell_type": "code",
   "execution_count": null,
   "id": "063e6322",
   "metadata": {},
   "outputs": [],
   "source": [
    "test_pred_LR = random_search.predict(test_data)"
   ]
  },
  {
   "cell_type": "code",
   "execution_count": null,
   "id": "ca9f4a32",
   "metadata": {},
   "outputs": [],
   "source": [
    "sample_submission= pd.read_csv(\"D:/Covid19-Death-Predictions/sample_submission.csv\")\n",
    "sample_submission['Next Week\\'s Deaths']=test_pred_LR\n",
    "LR_results=sample_submission\n",
    "print(LR_results)\n",
    "LR_results.to_csv(\"D:/Covid19-Death-Predictions/myrand045.csv\", index=False)\n",
    "LR_results.head(28)"
   ]
  },
  {
   "cell_type": "code",
   "execution_count": null,
   "id": "b25d014d",
   "metadata": {},
   "outputs": [],
   "source": []
  },
  {
   "cell_type": "code",
   "execution_count": null,
   "id": "eef0399d",
   "metadata": {},
   "outputs": [],
   "source": []
  },
  {
   "cell_type": "code",
   "execution_count": null,
   "id": "5faa4c50",
   "metadata": {},
   "outputs": [],
   "source": []
  },
  {
   "cell_type": "code",
   "execution_count": null,
   "id": "04817e6d",
   "metadata": {},
   "outputs": [],
   "source": []
  },
  {
   "cell_type": "code",
   "execution_count": null,
   "id": "fd0e5b5c",
   "metadata": {},
   "outputs": [],
   "source": []
  },
  {
   "cell_type": "code",
   "execution_count": null,
   "id": "89cc28c5",
   "metadata": {},
   "outputs": [],
   "source": []
  },
  {
   "cell_type": "code",
   "execution_count": null,
   "id": "713996b7",
   "metadata": {},
   "outputs": [],
   "source": []
  },
  {
   "cell_type": "code",
   "execution_count": null,
   "id": "96c6aaa9",
   "metadata": {},
   "outputs": [],
   "source": []
  },
  {
   "cell_type": "code",
   "execution_count": null,
   "id": "09dcea27",
   "metadata": {},
   "outputs": [],
   "source": []
  },
  {
   "cell_type": "code",
   "execution_count": null,
   "id": "18c51b3c",
   "metadata": {},
   "outputs": [],
   "source": []
  },
  {
   "cell_type": "code",
   "execution_count": null,
   "id": "bb394f80",
   "metadata": {},
   "outputs": [],
   "source": []
  },
  {
   "cell_type": "code",
   "execution_count": null,
   "id": "8c94e065",
   "metadata": {},
   "outputs": [],
   "source": []
  },
  {
   "cell_type": "code",
   "execution_count": null,
   "id": "bf2c620f",
   "metadata": {},
   "outputs": [],
   "source": []
  },
  {
   "cell_type": "code",
   "execution_count": null,
   "id": "3b230741",
   "metadata": {},
   "outputs": [],
   "source": []
  },
  {
   "cell_type": "code",
   "execution_count": null,
   "id": "c872a901",
   "metadata": {},
   "outputs": [],
   "source": []
  },
  {
   "cell_type": "code",
   "execution_count": null,
   "id": "01d008b0",
   "metadata": {},
   "outputs": [],
   "source": []
  },
  {
   "cell_type": "code",
   "execution_count": null,
   "id": "9dc15859",
   "metadata": {},
   "outputs": [],
   "source": []
  }
 ],
 "metadata": {
  "kernelspec": {
   "display_name": "Python 3",
   "language": "python",
   "name": "python3"
  },
  "language_info": {
   "codemirror_mode": {
    "name": "ipython",
    "version": 3
   },
   "file_extension": ".py",
   "mimetype": "text/x-python",
   "name": "python",
   "nbconvert_exporter": "python",
   "pygments_lexer": "ipython3",
   "version": "3.8.8"
  }
 },
 "nbformat": 4,
 "nbformat_minor": 5
}
